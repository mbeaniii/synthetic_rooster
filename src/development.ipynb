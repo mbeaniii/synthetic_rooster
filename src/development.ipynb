{
 "cells": [
  {
   "cell_type": "markdown",
   "metadata": {},
   "source": [
    "# First part: training the model based on the real data\n",
    "Getting the data would require spark, but let's skip that for now\n",
    "Instead, let's start off by generating a really simple example dataset.\n",
    "4 digit numbers, converted to string format; perhaps 1 million rows."
   ]
  },
  {
   "cell_type": "code",
   "execution_count": 57,
   "metadata": {},
   "outputs": [],
   "source": [
    "import numpy as np\n",
    "from random import randint\n",
    "from str_to_int import StrToInt\n",
    "import tensorflow as tf\n",
    "from tensorflow.keras.layers import Input, Dense, Lambda\n",
    "from tensorflow.keras.models import Model\n",
    "from tensorflow.keras.losses import binary_crossentropy\n",
    "from tensorflow.keras import backend as K"
   ]
  },
  {
   "cell_type": "code",
   "execution_count": 58,
   "metadata": {},
   "outputs": [
    {
     "name": "stdout",
     "output_type": "stream",
     "text": [
      "1000000\n",
      "4864\n",
      "4452\n",
      "<class 'str'>\n"
     ]
    }
   ],
   "source": [
    "test_data = [str(randint(1000, 9999)) for _ in range(1000000)]\n",
    "print(len(test_data))\n",
    "print(test_data[0])\n",
    "print(test_data[-1])\n",
    "print(type(test_data[0]))"
   ]
  },
  {
   "cell_type": "markdown",
   "metadata": {},
   "source": [
    "Good, now we can use this to train our model..."
   ]
  },
  {
   "cell_type": "code",
   "execution_count": 59,
   "metadata": {},
   "outputs": [],
   "source": [
    "test_data = np.array(test_data)"
   ]
  },
  {
   "cell_type": "code",
   "execution_count": 60,
   "metadata": {},
   "outputs": [],
   "source": [
    "encoder = StrToInt(test_data)\n",
    "encoded_data = tf.keras.preprocessing.sequence.pad_sequences(encoder.encoded_data, padding='post')"
   ]
  },
  {
   "cell_type": "code",
   "execution_count": 61,
   "metadata": {},
   "outputs": [
    {
     "name": "stdout",
     "output_type": "stream",
     "text": [
      "4864\n",
      "[2 1 7 2]\n",
      "4864\n"
     ]
    }
   ],
   "source": [
    "print(test_data[0])\n",
    "print(encoded_data[0])\n",
    "decoded_data = encoder.decode_data(encoded_data)\n",
    "print(decoded_data[0])"
   ]
  },
  {
   "cell_type": "code",
   "execution_count": 62,
   "metadata": {},
   "outputs": [
    {
     "name": "stdout",
     "output_type": "stream",
     "text": [
      "4452\n",
      "[2 2 4 5]\n",
      "4452\n"
     ]
    }
   ],
   "source": [
    "print(test_data[-1])\n",
    "print(encoded_data[-1])\n",
    "print(decoded_data[-1])"
   ]
  },
  {
   "cell_type": "markdown",
   "metadata": {},
   "source": [
    "# Second part: generating the synthetic data based on the model"
   ]
  },
  {
   "cell_type": "markdown",
   "metadata": {},
   "source": []
  },
  {
   "cell_type": "markdown",
   "metadata": {},
   "source": []
  }
 ],
 "metadata": {
  "kernelspec": {
   "display_name": "Python 3",
   "language": "python",
   "name": "python3"
  },
  "language_info": {
   "codemirror_mode": {
    "name": "ipython",
    "version": 3
   },
   "file_extension": ".py",
   "mimetype": "text/x-python",
   "name": "python",
   "nbconvert_exporter": "python",
   "pygments_lexer": "ipython3",
   "version": "3.8.19"
  }
 },
 "nbformat": 4,
 "nbformat_minor": 2
}
