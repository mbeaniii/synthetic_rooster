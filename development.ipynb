{
 "cells": [
  {
   "cell_type": "markdown",
   "metadata": {},
   "source": [
    "# First part: training the model based on the real data\n",
    "## Getting the data would require spark, but let's skip that for now\n",
    "## Instead, let's start off by generating a really simple example dataset.\n",
    "## 4 digit numbers, converted to string format; perhaps 1 million rows."
   ]
  },
  {
   "cell_type": "code",
   "execution_count": null,
   "metadata": {},
   "outputs": [],
   "source": [
    "from random import randint"
   ]
  },
  {
   "cell_type": "code",
   "execution_count": null,
   "metadata": {},
   "outputs": [],
   "source": [
    "test_data = [str(randint(1000, 9999)) for _ in range(1000000)]\n",
    "print(len(test_data))\n",
    "print(test_data[0])\n",
    "print(test_data[-1])"
   ]
  },
  {
   "cell_type": "markdown",
   "metadata": {},
   "source": [
    "# Second part: generating the synthetic data based on the model"
   ]
  }
 ],
 "metadata": {
  "language_info": {
   "name": "python"
  }
 },
 "nbformat": 4,
 "nbformat_minor": 2
}
